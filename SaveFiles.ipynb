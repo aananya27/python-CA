{
 "cells": [
  {
   "cell_type": "code",
   "execution_count": 6,
   "metadata": {
    "collapsed": true
   },
   "outputs": [],
   "source": [
    "from __future__ import print_function\n",
    "#import imageio\n",
    "import matplotlib.pyplot as plt\n",
    "import numpy as np\n",
    "import math\n",
    "import os\n",
    "import sys\n",
    "from IPython.display import display, Image\n",
    "from six.moves import cPickle as pickle\n",
    "from scipy.misc import imread, imsave, imresize\n",
    "from scipy import signal\n",
    "from skimage import data as dt, transform as transform, io\n",
    "from PIL import Image as Image1, ImageEnhance\n",
    "import pandas as pd\n",
    "%matplotlib inline"
   ]
  },
  {
   "cell_type": "code",
   "execution_count": 16,
   "metadata": {
    "collapsed": false
   },
   "outputs": [],
   "source": [
    "data_root = '.'\n",
    "\n",
    "img_rows, img_cols = 62, 62\n",
    "\n",
    "#path = os.path.join(data_root ,\"CAX_Superhero_Train\") \n",
    "path = os.path.join(data_root ,\"CAX_Superhero_Test\") \n",
    "\n",
    "### Images preprocessing ###\n",
    "\n",
    "for filename in os.listdir(path):\n",
    "    files = os.listdir(os.path.join(path,filename))\n",
    "    \n",
    "    data = np.zeros((len(files), img_rows,img_cols,3))\n",
    "\n",
    "    \n",
    "    for i, file in enumerate(files):\n",
    "        \n",
    "        filepath = os.path.join(path,filename,files[i])\n",
    "        #core = os.path.join(data_root,'resized_dataset_train',filename)\n",
    "        core = os.path.join(data_root,'resized_dataset_test',filename)\n",
    "        newName = os.path.join(core,files[i])\n",
    "        if not os.path.exists(core):\n",
    "            os.makedirs(core)\n",
    "        if not os.path.exists(newName):    \n",
    "            image = dt.imread(filepath)\n",
    "            imageResized = transform.resize(image, (img_rows,img_cols))\n",
    "            if imageResized.shape == data[i].shape:\n",
    "                data[i] = imageResized\n",
    "                io.imsave(newName, imageResized)\n",
    "                #print(newName)\n",
    "                \n",
    "                \n",
    "#root = os.path.join(data_root,'resized_dataset_train')\n",
    "root = os.path.join(data_root,'resized_dataset_test')\n",
    "\n",
    "data_folders = [\n",
    "    os.path.join(root,d) for d in sorted(os.listdir(root))\n",
    "    if os.path.isdir(os.path.join(root,d))\n",
    "]"
   ]
  },
  {
   "cell_type": "code",
   "execution_count": 17,
   "metadata": {
    "collapsed": false
   },
   "outputs": [
    {
     "name": "stdout",
     "output_type": "stream",
     "text": [
      "Pickling ./resized_dataset_test/CAX_Superhero_Test.pickle.\n",
      "Full dataset tensor: (3375, 62, 62, 3)\n",
      "Mean: 0.17054774\n",
      "Standard deviation: 0.36937064\n"
     ]
    }
   ],
   "source": [
    "image_size = 62\n",
    "pixel_depth = 255.0\n",
    "\n",
    "def load_hero(folder):\n",
    "    # Load data for single hero label\n",
    "    image_files = os.listdir(folder)\n",
    "    dataset = np.ndarray(shape=(len(image_files), image_size,image_size,3),dtype=np.float32)\n",
    "    num_images = 0\n",
    "    for image in image_files:\n",
    "        image_file = os.path.join(folder,image)\n",
    "        try:\n",
    "            image_data = ((io.imread(image_file).astype(float) - pixel_depth / 2) / pixel_depth)\n",
    "            if image_data.shape != (image_size,image_size,3):\n",
    "                 raise Exception('Unexpected image shape: %s' % str(image_data.shape))\n",
    "            dataset[num_images, :, :,:] = image_data\n",
    "            num_images += 1\n",
    "        except (IOError,ValueError) as e:\n",
    "            print('Could not read:',image_file,\":\",e,'- it\\'s ok, skipping.')\n",
    "    dataset = dataset[0:num_images,:,:,:]\n",
    "    print('Full dataset tensor:',dataset.shape)\n",
    "    print('Mean:',np.mean(dataset))\n",
    "    print('Standard deviation:',np.std(dataset))\n",
    "    return dataset\n",
    "\n",
    "def maybe_pickle(data_folders, force =False):\n",
    "    dataset_names = []\n",
    "    for folder in data_folders:\n",
    "        set_filename = folder+'.pickle'\n",
    "        dataset_names.append(set_filename)\n",
    "        if os.path.exists(set_filename) and not force:\n",
    "            print('%s already present - Skipping pickling.' % set_filename)\n",
    "        else:\n",
    "            print('Pickling %s.' % set_filename)\n",
    "            dataset = load_hero(folder)\n",
    "            try:\n",
    "                with open(set_filename,'wb') as f:\n",
    "                    pickle.dump(dataset, f, pickle.HIGHEST_PROTOCOL)\n",
    "            except Exaception as e:\n",
    "                print('Unable to save data to', set_filename,\":\",e)\n",
    "    return dataset_names\n",
    "\n",
    "datasets = maybe_pickle(data_folders)"
   ]
  },
  {
   "cell_type": "code",
   "execution_count": 18,
   "metadata": {
    "collapsed": false
   },
   "outputs": [
    {
     "data": {
      "image/png": "[encoded data removed]",
      "text/plain": [
       "<matplotlib.figure.Figure at 0x11a0b1850>"
      ]
     },
     "metadata": {},
     "output_type": "display_data"
    }
   ],
   "source": [
    "pickle_file = datasets[0]\n",
    "with open(pickle_file,'rb') as f:\n",
    "    letter_set = pickle.load(f) #unppickle\n",
    "    sample_idx = 23\n",
    "    sample_image = letter_set[sample_idx,:,:,:]\n",
    "    plt.figure()\n",
    "    plt.imshow(sample_image)"
   ]
  },
  {
   "cell_type": "code",
   "execution_count": 12,
   "metadata": {
    "collapsed": true
   },
   "outputs": [],
   "source": [
    "def make_arrays(nb_rows, img_size):\n",
    "    if nb_rows:\n",
    "        dataset = np.ndarray((nb_rows,img_size,img_size,3), dtype=np.float32)\n",
    "        labels = np.ndarray(nb_rows, dtype=np.int32)\n",
    "    else:\n",
    "        dataset, labels = None,None\n",
    "    return dataset, labels\n",
    "\n",
    "def merge_datasets(pickle_files):\n",
    "    num_classes = len(pickle_files)\n",
    "    \n",
    "    path = os.path.join('.','resized_dataset_train')\n",
    "    t = os.listdir(path)\n",
    "\n",
    "    train_size = 0\n",
    "    \n",
    "    for i in t:\n",
    "        if os.path.isdir(os.path.join(path,i)):\n",
    "            train_size += len(os.listdir(os.path.join(path,i)))\n",
    "            \n",
    "    train_dataset, train_labels = make_arrays(train_size, image_size)\n",
    "    \n",
    "    start_train,end_train = 0,0\n",
    "    \n",
    "    for label, pickle_file in enumerate(pickle_files):\n",
    "        try:\n",
    "            with open(pickle_file, 'rb') as f:\n",
    "                letter_set = pickle.load(f)\n",
    "                np.random.shuffle(letter_set)\n",
    "                end_train += len(letter_set)\n",
    "                \n",
    "                train_dataset[start_train:end_train, :, :, :] = letter_set\n",
    "                train_labels[start_train:end_train] = label\n",
    "                start_train = end_train\n",
    "                \n",
    "               \n",
    "        except Exception as e:\n",
    "            print('Unable to process data from', pickle_file, ':',e)\n",
    "            raise\n",
    "    \n",
    "    return train_dataset,train_labels\n",
    "\n",
    "\n",
    "train_dataset,train_labels = merge_datasets(datasets)\n"
   ]
  },
  {
   "cell_type": "code",
   "execution_count": 13,
   "metadata": {
    "collapsed": false
   },
   "outputs": [
    {
     "name": "stdout",
     "output_type": "stream",
     "text": [
      "Training:  (5430, 62, 62, 3) (5430,)\n"
     ]
    }
   ],
   "source": [
    "print('Training: ', train_dataset.shape, train_labels.shape)"
   ]
  },
  {
   "cell_type": "code",
   "execution_count": 19,
   "metadata": {
    "collapsed": false
   },
   "outputs": [
    {
     "data": {
      "image/png": "[encoded data removed]",
      "text/plain": [
       "<matplotlib.figure.Figure at 0x12ca5e590>"
      ]
     },
     "metadata": {},
     "output_type": "display_data"
    },
    {
     "name": "stdout",
     "output_type": "stream",
     "text": [
      "0\n"
     ]
    }
   ],
   "source": [
    "def randomize(dataset, labels):\n",
    "    permutation = np.random.permutation(labels.shape[0])\n",
    "    shuffled_dataset = dataset[permutation, :, :,:]\n",
    "    shuffled_labels = labels[permutation]\n",
    "    return shuffled_dataset, shuffled_labels\n",
    "\n",
    "train_dataset, train_labels = randomize(train_dataset, train_labels)\n",
    "\n",
    "plt.imshow(signal.medfilt(train_dataset[0]), interpolation='nearest')\n",
    "plt.show() \n",
    "print(train_labels[0])\n",
    "    "
   ]
  },
  {
   "cell_type": "code",
   "execution_count": 20,
   "metadata": {
    "collapsed": true
   },
   "outputs": [],
   "source": [
    "import csv\n",
    "def createLabelForTest(datasets):\n",
    "    \n",
    "    labelDict = {'ant_man':0,'aqua_man':1,'avengers':2,'bat_man':3,'black_panther':4,'captain_america':5,'cat_woman':6,'ghostrider':7,\n",
    "                'hulk':8,'iron_man':9,'spider_man':10,'super_man':11}\n",
    "    \n",
    "    with open('./Superhero_3375_SampleSubmission.csv', 'r') as csvFile:\n",
    "        \n",
    "        reader = list(csv.reader(csvFile))\n",
    "        length = len(reader)-1\n",
    "        test_dataset = np.ndarray((length,62,62,3), dtype=np.float32)\n",
    "        test_labels = np.ndarray(length, dtype=np.int32)\n",
    "        \n",
    "        with open(datasets[0], 'rb') as f:\n",
    "                letter_set = pickle.load(f)\n",
    "                test_dataset = letter_set\n",
    "        f.close()\n",
    "        \n",
    "        for i,row in enumerate(reader):\n",
    "            if(i==0): \n",
    "                continue\n",
    "            test_labels[i-1] = labelDict[row[1]]\n",
    "            \n",
    "\n",
    "        csvFile.close()\n",
    "        \n",
    "        return test_dataset,test_labels\n",
    "\n",
    "test_dataset,test_labels = createLabelForTest(datasets)"
   ]
  },
  {
   "cell_type": "code",
   "execution_count": 21,
   "metadata": {
    "collapsed": false
   },
   "outputs": [
    {
     "name": "stdout",
     "output_type": "stream",
     "text": [
      "Training:  (3375, 62, 62, 3) (3375,)\n"
     ]
    },
    {
     "data": {
      "image/png": "[encoded data removed]",
      "text/plain": [
       "<matplotlib.figure.Figure at 0x10b68c590>"
      ]
     },
     "metadata": {},
     "output_type": "display_data"
    },
    {
     "name": "stdout",
     "output_type": "stream",
     "text": [
      "0\n"
     ]
    }
   ],
   "source": [
    "print('Training: ', test_dataset.shape, test_labels.shape)\n",
    "test_dataset, test_labels = randomize(test_dataset, test_labels)\n",
    "\n",
    "plt.imshow(signal.medfilt(test_dataset[0]), interpolation='nearest')\n",
    "plt.show() \n",
    "print(train_labels[0])\n",
    "    "
   ]
  },
  {
   "cell_type": "code",
   "execution_count": 22,
   "metadata": {
    "collapsed": false
   },
   "outputs": [
    {
     "name": "stdout",
     "output_type": "stream",
     "text": [
      "Compresed pickle size:  406192639\n"
     ]
    }
   ],
   "source": [
    "pickle_file = os.path.join(data_root,'complete_dataset.pickle')\n",
    "\n",
    "try:\n",
    "    f = open(pickle_file, 'wb')\n",
    "    save = {\n",
    "        'train_dataset' : train_dataset,\n",
    "        'train_labels' : train_labels,\n",
    "        'test_dataset' : test_dataset,\n",
    "        'test_labels' : test_labels\n",
    "        }\n",
    "    pickle.dump(save, f, pickle.HIGHEST_PROTOCOL)\n",
    "    f.close()\n",
    "except Exception as e :\n",
    "    print('Unable to save data to', pickle_file, ':', e)\n",
    "    raise\n",
    "\n",
    "statinfo = os.stat(pickle_file)\n",
    "print('Compresed pickle size: ', statinfo.st_size)"
   ]
  },
  {
   "cell_type": "code",
   "execution_count": null,
   "metadata": {
    "collapsed": true
   },
   "outputs": [],
   "source": []
  }
 ],
 "metadata": {
  "kernelspec": {
   "display_name": "Python 2",
   "language": "python",
   "name": "python2"
  }
 },
 "nbformat": 4,
 "nbformat_minor": 2
}
